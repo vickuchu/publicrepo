{
 "cells": [
  {
   "cell_type": "markdown",
   "id": "4618305d-1aeb-470c-b7c9-b55c145fc2f2",
   "metadata": {},
   "source": [
    "# Data Science Tools and Ecosystem"
   ]
  },
  {
   "cell_type": "markdown",
   "id": "c55d7f12-e4c5-4fec-ab5d-aff9e9f8169b",
   "metadata": {},
   "source": [
    "In this notebook, Data Science Tools and Ecosystem are summarized."
   ]
  },
  {
   "cell_type": "markdown",
   "id": "71a3010f-e79b-4352-8254-9c9ed344e9e3",
   "metadata": {},
   "source": [
    "<b>Objectives:</b> \n",
    "- Learn about the different tools that data scientists use\n",
    "- Discover popular examples of all types and categories of tools\n",
    "- Become familiar with Jupyter Notebook and RStudio"
   ]
  },
  {
   "cell_type": "markdown",
   "id": "58c818e0-4025-4560-801c-b56d017b434b",
   "metadata": {},
   "source": [
    "Some of the popular languages that Data Scientists use are: \n",
    "1. Python\n",
    "2. R\n",
    "3. SQL\n",
    "4. Julia"
   ]
  },
  {
   "cell_type": "markdown",
   "id": "8c7414a6-39c8-41f2-be79-f1f667907985",
   "metadata": {},
   "source": [
    "Some of the commonly used libraries used by Data Scientists include:\n",
    "1. Panda\n",
    "2. NumPy\n",
    "3. ggplot2\n",
    "4. caret\n"
   ]
  },
  {
   "cell_type": "markdown",
   "id": "b41316a6-a8c4-4ab1-9716-035228b0296b",
   "metadata": {},
   "source": [
    "| Data Science Tools |\n",
    "| -------------|\n",
    "| Jupyter Notebook | \n",
    "| RStudio |\n",
    "| VS Code |"
   ]
  },
  {
   "cell_type": "markdown",
   "id": "bef4bebb-259c-4026-96c3-c761122c02f9",
   "metadata": {},
   "source": [
    "### Below are a few examples of evaluating arithmetic expressions in Python."
   ]
  },
  {
   "cell_type": "markdown",
   "id": "bd27bc0e-65d6-4891-85a0-f6431fb3283b",
   "metadata": {},
   "source": [
    "This is a simple arithmetic expression to multiply then add integers. "
   ]
  },
  {
   "cell_type": "code",
   "execution_count": 27,
   "id": "940ae2bd-3384-4c74-9532-c5f05c388639",
   "metadata": {
    "scrolled": true
   },
   "outputs": [
    {
     "data": {
      "text/plain": [
       "17"
      ]
     },
     "execution_count": 27,
     "metadata": {},
     "output_type": "execute_result"
    }
   ],
   "source": [
    "(3*4)+5"
   ]
  },
  {
   "cell_type": "markdown",
   "id": "dbb21a89-d0f7-4aec-b3db-d83d1a7383e1",
   "metadata": {},
   "source": [
    "This will convert 200 minutes to hours by diving by 60"
   ]
  },
  {
   "cell_type": "code",
   "execution_count": 29,
   "id": "d126fd0f-f5c6-4c54-b064-2a2437986ff5",
   "metadata": {},
   "outputs": [
    {
     "data": {
      "text/plain": [
       "3.3333333333333335"
      ]
     },
     "execution_count": 29,
     "metadata": {},
     "output_type": "execute_result"
    }
   ],
   "source": [
    "minutes = 200\n",
    "hours = minutes / 60\n",
    "hours"
   ]
  },
  {
   "cell_type": "markdown",
   "id": "b00167b1-f5d7-4c9c-bf80-9efb815215c0",
   "metadata": {},
   "source": [
    "## Author\n",
    "Vicky"
   ]
  },
  {
   "cell_type": "code",
   "execution_count": null,
   "id": "7ed5b5b3-b9a8-43bf-8a7e-c53fce2d62ec",
   "metadata": {},
   "outputs": [],
   "source": []
  }
 ],
 "metadata": {
  "kernelspec": {
   "display_name": "Python [conda env:base] *",
   "language": "python",
   "name": "conda-base-py"
  },
  "language_info": {
   "codemirror_mode": {
    "name": "ipython",
    "version": 3
   },
   "file_extension": ".py",
   "mimetype": "text/x-python",
   "name": "python",
   "nbconvert_exporter": "python",
   "pygments_lexer": "ipython3",
   "version": "3.12.7"
  }
 },
 "nbformat": 4,
 "nbformat_minor": 5
}
